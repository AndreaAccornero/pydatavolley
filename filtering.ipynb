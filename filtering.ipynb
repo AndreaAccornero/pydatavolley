{
  "cells": [
    {
      "cell_type": "raw",
      "metadata": {},
      "source": [
        "---\n",
        "title: \"Plays filtering\"\n",
        "---"
      ],
      "id": "84a55ff2"
    },
    {
      "cell_type": "markdown",
      "metadata": {},
      "source": [
        "### Plays filtering\n",
        "\n",
        "Once you have your data loaded into a plays dataframe, you can perform various filtering operations to focus on specific skills. This section covers techniques for filtering skills such as reception, serve, attack, set, dig, block, and more.\n",
        "\n",
        "## Python - Filtering for attacks\n"
      ],
      "id": "7f3420ca"
    },
    {
      "cell_type": "code",
      "metadata": {},
      "source": [
        "from datavolley import read_dv\n",
        "import pandas as pd\n",
        "dv_instance = read_dv.DataVolley(None) # Replace `None` with path of your dvw file \n",
        "df = dv_instance.get_plays()\n",
        "df = df[df['skill'] == 'Attack']\n",
        "print(df(index = False))"
      ],
      "id": "156ae742",
      "execution_count": null,
      "outputs": []
    },
    {
      "cell_type": "markdown",
      "metadata": {},
      "source": [
        "##"
      ],
      "id": "c0f851f0"
    }
  ],
  "metadata": {
    "kernelspec": {
      "name": "python3",
      "language": "python",
      "display_name": "Python 3 (ipykernel)"
    }
  },
  "nbformat": 4,
  "nbformat_minor": 5
}
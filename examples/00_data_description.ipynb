{
 "cells": [
  {
   "cell_type": "code",
   "execution_count": 102,
   "metadata": {},
   "outputs": [],
   "source": [
    "from datavolley import read_dv\n",
    "import pandas as pd"
   ]
  },
  {
   "cell_type": "code",
   "execution_count": 103,
   "metadata": {},
   "outputs": [],
   "source": [
    "import urllib.request\n",
    "datavolleyfile=\"&stuttgart-schwerin-2018.dvw\"\n",
    "url_source_file = \"https://raw.githubusercontent.com/openvolley/ovva/master/inst/extdata/demo/%26stuttgart-schwerin-2018.dvw\"\n",
    "source = urllib.request.urlopen(url_source_file).read().decode('UTF-8')\n",
    "# Scrittura dei dati in un file locale\n",
    "with open(datavolleyfile, 'w') as file:\n",
    "    file.write(source)"
   ]
  },
  {
   "cell_type": "code",
   "execution_count": 104,
   "metadata": {},
   "outputs": [],
   "source": [
    "# change this if you have your file\n",
    "datavolleyfile=\"&stuttgart-schwerin-2018.dvw\"\n",
    "# Reading the file\n",
    "dvf = read_dv.DataVolley(datavolleyfile)\n",
    "# extract all the actions\n",
    "plays = dvf.get_plays()"
   ]
  },
  {
   "cell_type": "code",
   "execution_count": 105,
   "metadata": {},
   "outputs": [],
   "source": [
    "championship = dvf.match_info.championship.values[0]\n",
    "match_day = dvf.match_info.day.values[0]\n",
    "match_time = dvf.match_info.time.values[0]\n",
    "match_season = dvf.match_info.season.values[0]"
   ]
  },
  {
   "cell_type": "code",
   "execution_count": 106,
   "metadata": {},
   "outputs": [],
   "source": [
    "total_minutes = dvf.sets_info.duration.sum()\n",
    "hours = total_minutes // 60\n",
    "minutes = total_minutes % 60"
   ]
  },
  {
   "cell_type": "code",
   "execution_count": 107,
   "metadata": {},
   "outputs": [],
   "source": [
    "string_sets = \"\"\n",
    "duraton_sets = \"\"\n",
    "for idx, row in dvf.sets_info.iterrows():\n",
    "   string_sets += \"(\" + str(row[\"home4\"]) + \"-\" + str(row[\"visitor4\"]) + \") \"\n",
    "   duraton_sets += str(row[\"duration\"]) + \"',\""
   ]
  },
  {
   "cell_type": "code",
   "execution_count": 108,
   "metadata": {},
   "outputs": [],
   "source": [
    "duration_sets = duraton_sets.rstrip(\",\")"
   ]
  },
  {
   "cell_type": "code",
   "execution_count": 109,
   "metadata": {},
   "outputs": [
    {
     "name": "stdout",
     "output_type": "stream",
     "text": [
      "\n",
      "21/04/2018 - 19.30.00\n",
      "1. Bundesliga Frauen - 1. Bundesliga Frauen - Playoffs\n",
      "Allianz MTV Stuttgart - SSC Palmberg Schwerin \n",
      "2-3 (25-21) (22-25) (22-25) (25-21) (12-15) \n",
      "duration: 02:17h (27',29',30',30',21')\n",
      "\n"
     ]
    }
   ],
   "source": [
    "print(\"\"\"\n",
    "%s - %s\n",
    "%s\n",
    "%s - %s \n",
    "%s-%s %s\n",
    "duration: %s:%sh (%s)\n",
    "\"\"\" % (match_day, match_time, championship, dvf.home_team, \n",
    "       dvf.visiting_team, dvf.home_setswon, dvf.visiting_setswon,\n",
    "       string_sets,str(hours).zfill(2), str(minutes).zfill(2), duration_sets))\n"
   ]
  },
  {
   "cell_type": "code",
   "execution_count": 110,
   "metadata": {},
   "outputs": [
    {
     "name": "stdout",
     "output_type": "stream",
     "text": [
      "Allianz MTV Stuttgart\n",
      "name\tname\n",
      "1\tNikoleta Perovic (21,3)\n",
      "2\tFemke Stoltenborg (2,1)\n",
      "3\tMicheli Tomazela Pissinato (0,0)\n",
      "5\tMallory Grace McCage (16,4)\n",
      "6\tAnnie Cesar (0,2)\n",
      "7\tRenata Sandor (12,10)\n",
      "8\tJulia Schaefer (1,1)\n",
      "10\tPia KÃ¤stner (1,0)\n",
      "11\tTeodora Pusic (0,0)\n",
      "12\tDeborah van Daelen (5,3)\n",
      "14\tJenna Potts (0,0)\n",
      "16\tMichaela Mlejnkova (18,5)\n",
      "17\tPaige Tapp (7,2)\n",
      "coaches\n",
      " Athanasopoulos Giannis\n",
      " Paraschidis I, Miyashiro T\n",
      "\n",
      "in parentheses: number of points, number of errors\n"
     ]
    }
   ],
   "source": [
    "print(dvf.home_team)\n",
    "print(\"name\\tname\")\n",
    "players = dvf.players_home\n",
    "players['player_number'] = pd.to_numeric(players['player_number'], errors='coerce')\n",
    "players = players.sort_values(\"player_number\")\n",
    "plays = dvf.get_plays()\n",
    "for idx, row in players.iterrows():\n",
    "    player_number = row[\"player_number\"]\n",
    "    player_name = row['player_name'].rstrip()\n",
    "    player_id = row['player_id']\n",
    "    points = plays[(plays.player_id == player_id) & plays.skill.isin(['Attack', 'Serve','Block']) & (plays.evaluation_code == \"#\")].shape[0]\n",
    "    errors = plays[(plays.player_id == player_id) & plays.skill.isin(['Attack', 'Reception','Dig','Set','Block']) & (plays.evaluation_code == \"=\")].shape[0]\n",
    "    print(\"\"\"%s\\t%s (%i,%i)\"\"\" % (player_number,player_name, points, errors))\n",
    "print(\"coaches\")\n",
    "print(\" \" + dvf.home_coaches[0])\n",
    "print(\" \" + dvf.home_coaches[1])\n",
    "print(\"\\nin parentheses: number of points, number of errors\")"
   ]
  },
  {
   "cell_type": "code",
   "execution_count": 111,
   "metadata": {},
   "outputs": [
    {
     "data": {
      "text/plain": [
       "'Athanasopoulos Giannis'"
      ]
     },
     "execution_count": 111,
     "metadata": {},
     "output_type": "execute_result"
    }
   ],
   "source": [
    "dvf.home_coaches[0]"
   ]
  },
  {
   "cell_type": "code",
   "execution_count": 112,
   "metadata": {},
   "outputs": [
    {
     "name": "stdout",
     "output_type": "stream",
     "text": [
      "SSC Palmberg Schwerin\n",
      "name\tname\n",
      "1\tGreta SzakmÃ¡ry (25,8)\n",
      "2\tMartenne Julia Bettendorf (0,0)\n",
      "3\tLouisa Lippmann (20,9)\n",
      "5\tSabrina Krause (0,0)\n",
      "6\tJennifer Geerties (11,5)\n",
      "7\tLuna Veronica Carocci (0,3)\n",
      "8\tKaisa Alanko (1,1)\n",
      "10\tDenise Hanke (6,4)\n",
      "11\tBeta Dumancic (12,0)\n",
      "12\tLauren Barfield (9,0)\n",
      "14\tElisa Lohmann (0,0)\n",
      "15\tJelena Oluic (2,0)\n",
      "16\tMarie SchÃ¶lzel (0,0)\n",
      "coaches\n",
      " Koslowski Felix\n",
      " Hartmann M, Sens P\n",
      "\n",
      "in parentheses: number of points, number of errors\n"
     ]
    }
   ],
   "source": [
    "print(dvf.visiting_team)\n",
    "print(\"name\\tname\")\n",
    "players = dvf.players_visiting\n",
    "players['player_number'] = pd.to_numeric(players['player_number'], errors='coerce')\n",
    "players = players.sort_values(\"player_number\")\n",
    "plays = dvf.get_plays()\n",
    "for idx, row in players.iterrows():\n",
    "    player_number = row[\"player_number\"]\n",
    "    player_name = row['player_name'].rstrip()\n",
    "    player_id = row['player_id']\n",
    "    points = plays[(plays.player_id == player_id) & plays.skill.isin(['Attack', 'Serve','Block']) & (plays.evaluation_code == \"#\")].shape[0]\n",
    "    errors = plays[(plays.player_id == player_id) & plays.skill.isin(['Attack', 'Reception','Dig','Set','Block']) & (plays.evaluation_code == \"=\")].shape[0]\n",
    "    print(\"\"\"%s\\t%s (%i,%i)\"\"\" % (player_number,player_name, points, errors))\n",
    "print(\"coaches\")\n",
    "print(\" \" + dvf.visiting_coaches[0])\n",
    "print(\" \" + dvf.visiting_coaches[1])\n",
    "print(\"\\nin parentheses: number of points, number of errors\")"
   ]
  }
 ],
 "metadata": {
  "kernelspec": {
   "display_name": "Python 3",
   "language": "python",
   "name": "python3"
  },
  "language_info": {
   "codemirror_mode": {
    "name": "ipython",
    "version": 3
   },
   "file_extension": ".py",
   "mimetype": "text/x-python",
   "name": "python",
   "nbconvert_exporter": "python",
   "pygments_lexer": "ipython3",
   "version": "3.11.6"
  }
 },
 "nbformat": 4,
 "nbformat_minor": 2
}
